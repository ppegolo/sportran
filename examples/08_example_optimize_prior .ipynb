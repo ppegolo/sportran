{
 "cells": [
  {
   "cell_type": "code",
   "execution_count": 1,
   "metadata": {},
   "outputs": [],
   "source": [
    "%load_ext autoreload\n",
    "%autoreload 2"
   ]
  },
  {
   "cell_type": "code",
   "execution_count": 2,
   "metadata": {},
   "outputs": [],
   "source": [
    "import sys\n",
    "import sportran as st\n",
    "import numpy as np\n",
    "import matplotlib.pyplot as plt\n",
    "import pandas as pd"
   ]
  },
  {
   "cell_type": "code",
   "execution_count": 3,
   "metadata": {},
   "outputs": [],
   "source": [
    "from scipy.interpolate import CubicSpline, interp1d\n",
    "def model_scalar(x, y):\n",
    "    return CubicSpline(np.concatenate([-x[::-1], x[1:]]), np.concatenate([y[::-1], y[1:]]))\n",
    "\n",
    "n = 2\n",
    "def model_wishart_(x, y):\n",
    "    xx = np.concatenate([-x[::-1], x[1:]])\n",
    "    l = x.size\n",
    "    y00, y01, y11 = y.reshape(3,l)\n",
    "    yy = np.array([[y00, y01], [np.zeros_like(y01), y11]]).T\n",
    "    # yy = np.einsum('tab,tbc->tac', np.transpose(yy, axes=(0,2,1)), yy)\n",
    "    yy = np.concatenate([yy[::-1], yy[1:]])\n",
    "    # return interp1d(xx, yy)) \n",
    "    return CubicSpline(xx, yy) #, bc_type = 'clamped')\n",
    "\n",
    "import numpy as np\n",
    "from scipy.interpolate import CubicSpline\n",
    "\n",
    "def model_wishart(x, y, N):\n",
    "    xx = np.concatenate([-x[::-1], x[1:]])\n",
    "    l = x.size\n",
    "    upper_triangle_indices = np.triu_indices(N)\n",
    "    y_elements = y.reshape(len(upper_triangle_indices[0]), l)\n",
    "    \n",
    "    yy = np.zeros((l, N, N))\n",
    "    for k, (i, j) in enumerate(zip(*upper_triangle_indices)):\n",
    "        yy[:, j, i] = y_elements[k]\n",
    "    \n",
    "    yy = np.concatenate([yy[::-1], yy[1:]])\n",
    "    return CubicSpline(xx, yy)\n",
    "\n",
    "def mini_model_w(x, y, N):\n",
    "    xx = np.concatenate([-x[::-1], x[1:]])\n",
    "    l = x.size\n",
    "    \n",
    "    # y.shape should be l*N**2\n",
    "    yy = y.reshape(l, N**2)\n",
    "    yy = np.concatenate([yy[::-1], yy[1:]])\n",
    "    return CubicSpline(xx, yy)\n",
    "\n",
    "def mini_model_w_real(x, y, N):\n",
    "    xx = np.concatenate([-x[::-1], x[1:]])\n",
    "    l = x.size\n",
    "    yy = y.reshape(l, N*(N+1)//2)\n",
    "    yy = np.concatenate([yy[::-1], yy[1:]])\n",
    "    return CubicSpline(xx, yy)\n"
   ]
  },
  {
   "cell_type": "code",
   "execution_count": 4,
   "metadata": {},
   "outputs": [],
   "source": [
    "dc=np.load('data/bayesian/CsF/dc_minimal.npy', allow_pickle = True).item()"
   ]
  },
  {
   "cell_type": "code",
   "execution_count": 5,
   "metadata": {},
   "outputs": [],
   "source": [
    "def split_bl(array):\n",
    "    s = array.shape[0]//2\n",
    "    return np.hstack([array[:s], array[s:]])"
   ]
  },
  {
   "cell_type": "code",
   "execution_count": 6,
   "metadata": {},
   "outputs": [
    {
     "name": "stdout",
     "output_type": "stream",
     "text": [
      "Using multicomponent code.\n",
      "Using multicomponent code.\n",
      "-----------------------------------------------------\n",
      "  RESAMPLE TIME SERIES\n",
      "-----------------------------------------------------\n",
      " Original Nyquist freq  f_Ny =     500.00000 THz\n",
      " Resampling freq          f* =      20.00000 THz\n",
      " Sampling time         TSKIP =            25 steps\n",
      "                             =        25.000 fs\n",
      " Original  n. of frequencies =        100001\n",
      " Resampled n. of frequencies =          4001\n",
      " min(PSD)          (pre-filter&sample) =      0.00206\n",
      " min(PSD)         (post-filter&sample) =    268.60806\n",
      " % of original PSD Power f<f* (pre-filter&sample)  = 99.707 %\n",
      " fPSD not calculated before resampling\n",
      " -----------------------------------------------------\n",
      "\n"
     ]
    }
   ],
   "source": [
    "flux = st.HeatCurrent(\n",
    "    [\n",
    "        dc['heat_flux'],\n",
    "        dc['electric_flux']\n",
    "        # split_bl(dc['heat_flux']),\n",
    "        # split_bl(dc['electric_flux'])\n",
    "    ],\n",
    "    DT_FS=1,\n",
    "    TEMPERATURE=dc['Temperature'],\n",
    "    VOLUME=dc['Volume'],\n",
    "    UNITS='metal'\n",
    "    )\n",
    "flux_resample=flux.resample(fstar_THz=20)\n",
    "flux_resample.filter_psd(0.5)"
   ]
  },
  {
   "cell_type": "code",
   "execution_count": 7,
   "metadata": {},
   "outputs": [
    {
     "name": "stdout",
     "output_type": "stream",
     "text": [
      "MaxLikeFilter Initialization\n",
      "Maximum-likelihood estimation with n_parameters = [5 6]\n",
      "Optimal number of parameters between 5 and 6 chosen by AIC\n",
      "n_parameters = 5\n",
      "Spline nodes are equispaced from 0 to the Nyquist frequency.\n",
      "Optimization terminated successfully.\n",
      "         Current function value: 157645.439405\n",
      "         Iterations: 115\n",
      "         Function evaluations: 3968\n",
      "         Gradient evaluations: 128\n",
      "AIC: -157650.4673367685; Steps since last AIC update: 0\n",
      "n_parameters = 6\n",
      "Spline nodes are equispaced from 0 to the Nyquist frequency.\n",
      "Optimization terminated successfully.\n",
      "         Current function value: 157481.577063\n",
      "         Iterations: 136\n",
      "         Function evaluations: 5180\n",
      "         Gradient evaluations: 140\n",
      "AIC: -157487.60993576434; Steps since last AIC update: 0\n",
      "SHAPE----------------------------------------------------------------\n",
      "(18,) (18, 18)\n",
      "-----------------------------------------------------\n",
      "  MAXIMUM LIKELIHOOD ESTIMATION\n",
      "-----------------------------------------------------\n",
      "  Fixed n_parameters = 6\n",
      "  S_{00} =      964641.265201 +/- 43460.905393\n",
      "  S_{01} =      164644.042008 +/- 24778.827913\n",
      "  S_{11} =      640889.880138 +/- 28493.365586\n",
      "-----------------------------------------------------\n",
      "\n"
     ]
    }
   ],
   "source": [
    "flux_resample.maxlike_estimate(\n",
    "    lambda x, y: mini_model_w_real(x, y, 2), \n",
    "    # np.arange(5, 7), \n",
    "    # 5,\n",
    "    'AIC',\n",
    "    solver = 'BFGS',\n",
    "    minimize_kwargs = {\n",
    "        'tol': 1e-8,\n",
    "        'jac': '3-point',\n",
    "        'options': {\n",
    "            'disp': True, \n",
    "            'gtol': 1e-4, \n",
    "            'maxiter': 500, \n",
    "            'eps': 1e-6\n",
    "            },\n",
    "    }\n",
    ")"
   ]
  },
  {
   "cell_type": "code",
   "execution_count": null,
   "metadata": {},
   "outputs": [],
   "source": [
    "plt.plot(flux_resample.maxlike.alpha, flux_resample.maxlike.best_alpha['lev_s'])\n",
    "plt.axvline(flux_resample.maxlike.best_alpha['alpha_s'], color='red')"
   ]
  },
  {
   "cell_type": "code",
   "execution_count": null,
   "metadata": {},
   "outputs": [],
   "source": []
  }
 ],
 "metadata": {
  "kernelspec": {
   "display_name": "Python 3",
   "language": "python",
   "name": "python3"
  },
  "language_info": {
   "codemirror_mode": {
    "name": "ipython",
    "version": 3
   },
   "file_extension": ".py",
   "mimetype": "text/x-python",
   "name": "python",
   "nbconvert_exporter": "python",
   "pygments_lexer": "ipython3",
   "version": "3.11.8"
  }
 },
 "nbformat": 4,
 "nbformat_minor": 4
}
