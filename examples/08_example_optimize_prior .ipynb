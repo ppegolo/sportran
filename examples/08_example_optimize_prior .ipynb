{
 "cells": [
  {
   "cell_type": "code",
   "execution_count": 1,
   "metadata": {},
   "outputs": [],
   "source": [
    "import sys\n",
    "sys.path.append('../')\n",
    "import sportran as st\n",
    "import numpy as np\n",
    "import matplotlib.pyplot as plt\n",
    "import pandas as pd"
   ]
  },
  {
   "cell_type": "code",
   "execution_count": 2,
   "metadata": {},
   "outputs": [],
   "source": [
    "from scipy.interpolate import CubicSpline, interp1d\n",
    "def model_scalar(x, y):\n",
    "    return CubicSpline(np.concatenate([-x[::-1], x[1:]]), np.concatenate([y[::-1], y[1:]]))\n",
    "\n",
    "n = 2\n",
    "def model_wishart_(x, y):\n",
    "    xx = np.concatenate([-x[::-1], x[1:]])\n",
    "    l = x.size\n",
    "    y00, y01, y11 = y.reshape(3,l)\n",
    "    yy = np.array([[y00, y01], [np.zeros_like(y01), y11]]).T\n",
    "    # yy = np.einsum('tab,tbc->tac', np.transpose(yy, axes=(0,2,1)), yy)\n",
    "    yy = np.concatenate([yy[::-1], yy[1:]])\n",
    "    # return interp1d(xx, yy)) \n",
    "    return CubicSpline(xx, yy) #, bc_type = 'clamped')\n",
    "\n",
    "import numpy as np\n",
    "from scipy.interpolate import CubicSpline\n",
    "\n",
    "def model_wishart(x, y, N):\n",
    "    xx = np.concatenate([-x[::-1], x[1:]])\n",
    "    l = x.size\n",
    "    upper_triangle_indices = np.triu_indices(N)\n",
    "    y_elements = y.reshape(len(upper_triangle_indices[0]), l)\n",
    "    \n",
    "    yy = np.zeros((l, N, N))\n",
    "    for k, (i, j) in enumerate(zip(*upper_triangle_indices)):\n",
    "        yy[:, j, i] = y_elements[k]\n",
    "    \n",
    "    yy = np.concatenate([yy[::-1], yy[1:]])\n",
    "    return CubicSpline(xx, yy)\n",
    "\n",
    "def mini_model_w(x, y, N):\n",
    "    xx = np.concatenate([-x[::-1], x[1:]])\n",
    "    l = x.size\n",
    "    \n",
    "    # y.shape should be l*N**2\n",
    "    yy = y.reshape(l, N**2)\n",
    "    yy = np.concatenate([yy[::-1], yy[1:]])\n",
    "    return CubicSpline(xx, yy)\n",
    "\n",
    "def mini_model_w_real(x, y, N):\n",
    "    xx = np.concatenate([-x[::-1], x[1:]])\n",
    "    l = x.size\n",
    "    yy = y.reshape(l, N*(N+1)//2)\n",
    "    yy = np.concatenate([yy[::-1], yy[1:]])\n",
    "    return CubicSpline(xx, yy)\n"
   ]
  },
  {
   "cell_type": "code",
   "execution_count": 3,
   "metadata": {},
   "outputs": [],
   "source": [
    "dc=np.load('data/bayesian/CsF/dc_minimal.npy', allow_pickle = True).item()"
   ]
  },
  {
   "cell_type": "code",
   "execution_count": 4,
   "metadata": {},
   "outputs": [],
   "source": [
    "def split_bl(array):\n",
    "    s = array.shape[0]//2\n",
    "    return np.hstack([array[:s], array[s:]])"
   ]
  },
  {
   "cell_type": "code",
   "execution_count": 5,
   "metadata": {},
   "outputs": [
    {
     "name": "stdout",
     "output_type": "stream",
     "text": [
      "Using multicomponent code.\n",
      "Using multicomponent code.\n",
      "-----------------------------------------------------\n",
      "  RESAMPLE TIME SERIES\n",
      "-----------------------------------------------------\n",
      " Original Nyquist freq  f_Ny =     500.00000 THz\n",
      " Resampling freq          f* =      20.00000 THz\n",
      " Sampling time         TSKIP =            25 steps\n",
      "                             =        25.000 fs\n",
      " Original  n. of frequencies =         50001\n",
      " Resampled n. of frequencies =          2001\n",
      " min(PSD)          (pre-filter&sample) =      0.00208\n",
      " min(PSD)         (post-filter&sample) =   1856.32621\n",
      " % of original PSD Power f<f* (pre-filter&sample)  = 99.365 %\n",
      " fPSD not calculated before resampling\n",
      " -----------------------------------------------------\n",
      "\n"
     ]
    }
   ],
   "source": [
    "flux = st.HeatCurrent(\n",
    "    [\n",
    "        # dc['heat_flux'],\n",
    "        # dc['electric_flux']\n",
    "        split_bl(dc['heat_flux']),\n",
    "        split_bl(dc['electric_flux'])\n",
    "    ],\n",
    "    DT_FS=1,\n",
    "    TEMPERATURE=dc['Temperature'],\n",
    "    VOLUME=dc['Volume'],\n",
    "    UNITS='metal'\n",
    "    )\n",
    "flux_resample=flux.resample(fstar_THz=20)\n",
    "flux_resample.filter_psd(0.5)"
   ]
  },
  {
   "cell_type": "code",
   "execution_count": 6,
   "metadata": {},
   "outputs": [
    {
     "name": "stdout",
     "output_type": "stream",
     "text": [
      "MaxLikeFilter Initialization\n",
      "Maximum-likelihood estimation with n_parameters = [5 6]\n",
      "Optimal number of parameters between 5 and 6 chosen by AIC\n",
      "n_parameters = 5\n",
      "Spline nodes are equispaced from 0 to the Nyquist frequency.\n",
      "Optimization terminated successfully.\n",
      "         Current function value: 75094.365990\n",
      "         Iterations: 129\n",
      "         Function evaluations: 4464\n",
      "         Gradient evaluations: 144\n",
      "AIC: -75099.3659903142; Steps since last AIC update: 0\n",
      "n_parameters = 6\n",
      "Spline nodes are equispaced from 0 to the Nyquist frequency.\n",
      "Optimization terminated successfully.\n",
      "         Current function value: 74936.162065\n",
      "         Iterations: 158\n",
      "         Function evaluations: 6290\n",
      "         Gradient evaluations: 170\n",
      "AIC: -74942.16206470405; Steps since last AIC update: 0\n",
      "-----------------------------------------------------\n",
      "  MAXIMUM LIKELIHOOD ESTIMATION\n",
      "-----------------------------------------------------\n",
      "  Fixed n_parameters = 6\n",
      "  S_{00} =      972767.289072 +/- 44343.082278\n",
      "  S_{01} =      167917.403774 +/- 25834.235931\n",
      "  S_{11} =      642387.799921 +/- 27425.049491\n",
      "-----------------------------------------------------\n",
      "\n"
     ]
    }
   ],
   "source": [
    "flux_resample.maxlike_estimate(\n",
    "    lambda x, y: mini_model_w_real(x, y, 2), \n",
    "    np.arange(5, 7), \n",
    "    # 5,\n",
    "    solver = 'BFGS',\n",
    "    minimize_kwargs = {\n",
    "        'tol': 1e-8,\n",
    "        'jac': '3-point',\n",
    "        'options': {\n",
    "            'disp': True, \n",
    "            'gtol': 1e-4, \n",
    "            'maxiter': 500, \n",
    "            'eps': 1e-6\n",
    "            },\n",
    "    }\n",
    ")"
   ]
  },
  {
   "cell_type": "code",
   "execution_count": 61,
   "metadata": {},
   "outputs": [],
   "source": [
    "def reweight_alpha_vec(alpha, samples):\n",
    "    truth_mean = np.mean(samples.T[:,:]*np.exp(-alpha[:, None, None]*np.linalg.norm(samples, axis=1)**2), axis=2)\\\n",
    "    /np.mean(np.exp(-alpha[:, None, None]*np.linalg.norm(samples, axis=1)**2), axis=2)\n",
    "    truth_var = np.mean(samples.T[:,:]**2*np.exp(-alpha[:, None, None]*np.linalg.norm(samples, axis=1)**2), axis=2)\\\n",
    "    /np.mean(np.exp(-alpha[:, None, None]*np.linalg.norm(samples, axis=1)**2), axis=2)-truth_mean**2\n",
    "    return truth_mean, truth_var\n",
    "\n",
    "def reweight_logev_alpha_vec(alpha, samples):\n",
    "    M = samples.shape[1]\n",
    "    truth_mean = np.log(np.mean(np.exp(-alpha[:, None]*np.linalg.norm(samples, axis=1)**2), axis=1)) + M/2 * np.log(alpha/2/np.pi)\n",
    "    return truth_mean\n",
    "\n",
    "def reweight_alpha(alpha, samples):\n",
    "    truth_mean = np.mean(samples.T[:,:]*np.exp(-alpha*np.linalg.norm(samples, axis=1)**2), axis=1)\\\n",
    "    /np.mean(np.exp(-alpha*np.linalg.norm(samples, axis=1)**2), axis=0)\n",
    "    truth_var = np.mean(samples.T[:,:]**2*np.exp(-alpha*np.linalg.norm(samples, axis=1)**2), axis=1)\\\n",
    "    /np.mean(np.exp(-alpha*np.linalg.norm(samples, axis=1)**2), axis=0)-truth_mean**2\n",
    "    return truth_mean, truth_var"
   ]
  },
  {
   "cell_type": "code",
   "execution_count": 62,
   "metadata": {},
   "outputs": [],
   "source": [
    "def generate_samples_mc(model, w, omega, omega_fixed, n, cov_w, size=1000):\n",
    "    sample = w + np.random.multivariate_normal(mean=np.zeros_like(w), cov=cov_w, size=size)\n",
    "    #sample_S = np.stack([scale_matrix(model, ww, omega, omega_fixed, 2)[:, 1, 0]/scale_matrix(model, ww, omega, omega_fixed, 2)[:, 1, 1] for ww in sample])\n",
    "    \n",
    "    return sample"
   ]
  },
  {
   "cell_type": "code",
   "execution_count": 63,
   "metadata": {},
   "outputs": [],
   "source": [
    "from sportran.md.maxlike import scale_matrix"
   ]
  },
  {
   "cell_type": "code",
   "execution_count": 64,
   "metadata": {},
   "outputs": [],
   "source": [
    "sampples=generate_samples_mc(flux_resample.maxlike.model,\n",
    "                             flux_resample.maxlike.parameters_mean,\n",
    "                             flux_resample.maxlike.omega,\n",
    "                             flux_resample.maxlike.omega_fixed,\n",
    "                             flux_resample.N_CURRENTS,\n",
    "                             flux_resample.maxlike.parameters_cov\n",
    "                            ) "
   ]
  },
  {
   "cell_type": "code",
   "execution_count": 65,
   "metadata": {},
   "outputs": [
    {
     "data": {
      "text/plain": [
       "(1000, 18)"
      ]
     },
     "execution_count": 65,
     "metadata": {},
     "output_type": "execute_result"
    }
   ],
   "source": [
    "sampples.shape"
   ]
  },
  {
   "cell_type": "code",
   "execution_count": 71,
   "metadata": {},
   "outputs": [
    {
     "name": "stdout",
     "output_type": "stream",
     "text": [
      "[1.00000000e-10 1.10009001e-09 2.10018002e-09 ... 9.99799982e-06\n",
      " 9.99899991e-06 1.00000000e-05]\n",
      "[9.99121488e-01 9.90377933e-01 9.81710912e-01 ... 1.73263622e-38\n",
      " 1.71779560e-38 1.70308213e-38]\n",
      "1.0261923492349234e-06\n"
     ]
    }
   ],
   "source": [
    "dic_alpha={}\n",
    "\n",
    "alpha = np.linspace(1e-10,1e-5,10000)\n",
    "dic_alpha['lev_s']=reweight_logev_alpha_vec(alpha=alpha,\n",
    "                                            samples=sampples\n",
    "                                              )\n",
    "dic_alpha['alpha_s'] = alpha[np.argmax(dic_alpha['lev_s'])]\n",
    "print(dic_alpha['alpha_s'])"
   ]
  },
  {
   "cell_type": "code",
   "execution_count": 73,
   "metadata": {},
   "outputs": [
    {
     "data": {
      "text/plain": [
       "<matplotlib.lines.Line2D at 0x7fdea2fe9850>"
      ]
     },
     "execution_count": 73,
     "metadata": {},
     "output_type": "execute_result"
    },
    {
     "data": {
      "image/png": "[encoded data removed]",
      "text/plain": [
       "<Figure size 1140x690 with 1 Axes>"
      ]
     },
     "metadata": {},
     "output_type": "display_data"
    }
   ],
   "source": [
    "plt.plot(alpha, dic_alpha['lev_s'])\n",
    "plt.axvline(dic_alpha['alpha_s'], color='red')"
   ]
  },
  {
   "cell_type": "code",
   "execution_count": 75,
   "metadata": {},
   "outputs": [],
   "source": [
    "new_p, new_std=reweight_alpha(alpha=dic_alpha['alpha_s'], samples=sampples)"
   ]
  },
  {
   "cell_type": "code",
   "execution_count": 76,
   "metadata": {},
   "outputs": [
    {
     "data": {
      "text/plain": [
       "(array([1391.19511519,  238.73263035, 1105.96237317, 1196.97269721,\n",
       "         309.82950296, 1504.6730606 ,  803.52558311, -120.1150033 ,\n",
       "         712.445139  ,  551.79621607, -168.6288367 ,  206.4561598 ,\n",
       "         354.3520938 ,  -81.88368176,   55.50049563,  275.65993193,\n",
       "         -48.13719587,   21.14055301]),\n",
       " array([1394.82421048,  240.77213818, 1107.6120157 , 1196.74135383,\n",
       "         309.03265131, 1505.47481376,  803.64908998, -120.54241659,\n",
       "         712.86097633,  551.80037407, -168.58070723,  206.58579703,\n",
       "         354.31364229,  -81.88612007,   55.5125449 ,  275.97669283,\n",
       "         -48.16602338,   21.14914733]))"
      ]
     },
     "execution_count": 76,
     "metadata": {},
     "output_type": "execute_result"
    }
   ],
   "source": [
    "new_p, flux_resample.maxlike.parameters_mean"
   ]
  },
  {
   "cell_type": "code",
   "execution_count": null,
   "metadata": {},
   "outputs": [],
   "source": []
  }
 ],
 "metadata": {
  "kernelspec": {
   "display_name": "Python 3",
   "language": "python",
   "name": "python3"
  },
  "language_info": {
   "codemirror_mode": {
    "name": "ipython",
    "version": 3
   },
   "file_extension": ".py",
   "mimetype": "text/x-python",
   "name": "python",
   "nbconvert_exporter": "python",
   "pygments_lexer": "ipython3",
   "version": "3.8.5"
  }
 },
 "nbformat": 4,
 "nbformat_minor": 4
}
